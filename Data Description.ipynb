{
    "cells": [
        {
            "cell_type": "markdown",
            "metadata": {
                "collapsed": true
            },
            "source": "# 3. Data Description"
        },
        {
            "cell_type": "markdown",
            "metadata": {},
            "source": "To make comparison between London and NYC, location (geographical) data is needed for both cities. To acquire detailed venue and neighborhood data, several other APIs are also needed for this project."
        },
        {
            "cell_type": "markdown",
            "metadata": {},
            "source": "## 3.1  New York City Data"
        },
        {
            "cell_type": "markdown",
            "metadata": {},
            "source": "The data available for New York City can be found in the Json file located at https://cf-courses-data.s3.us.cloud-object-storage.appdomain.cloud/IBMDeveloperSkillsNetwork-DS0701EN-SkillsNetwork/labs/newyork_data.json\n\nThe Json file contains all necessary informations of New York City for this project, including:\n\n1. *Borough*: The name of the Borough (district) of NYC\n2. *Neighborhood*: The name of neighborhoods of NYC\n3. *Latitude*: The corresponding latitude of a specific neighborhood\n4. *Longitude*: The corresponding longitude of a specific neighborhood"
        },
        {
            "cell_type": "markdown",
            "metadata": {},
            "source": "## 3.2 London Data"
        },
        {
            "cell_type": "markdown",
            "metadata": {},
            "source": "The data available for London can be found in the table of the wiki page https://en.wikipedia.org/wiki/List_of_areas_of_London.\n\nThe table contains borough and neighborhood data that needed for this project:\n\n1. *Location*: The name of neighborhood of London\n2. *London borough*: The name of borough (district) of London\n\nHowever, longitude and latitude data for London neighborhood are not included in the wiki page. To solve this problem, we use the Geocoder Python package to derive those information."
        },
        {
            "cell_type": "markdown",
            "metadata": {},
            "source": "## 3.3 Geocoder Python Package"
        },
        {
            "cell_type": "markdown",
            "metadata": {},
            "source": "Geocoder is a simple and consistent geocoding library written in Python. Dealing with multiple different geocoding provider such as Google, Bing, OSM & many more has never been easier.\n\nNominatim is a tool from Geocoder package that returns latitude and longitude of a specific location given its name. Using Nominatim, we are able to derive latitude and longitude data for London neighborhoods."
        },
        {
            "cell_type": "markdown",
            "metadata": {},
            "source": "## 3.4 Foursquare API"
        },
        {
            "cell_type": "markdown",
            "metadata": {},
            "source": "After acquiring necessary neighborhood location data for both cities, we also need detailed venue data for those neighborhoods.\n\nFoursquare is a social location service that allows users to explore the world around them. Foursquare API contains a massive dataset of accurate location data. It contains all sets of information needed for this project, including venue names, venue category, venue longitude, and venue latitude.\n\nAfter collecting requisite latitude and longtitude data for all neighborhoods, we pass those information, with our credentials and maximum radius (we choose 500) to Foursquare API. Then, the API will provide us with the following information:\n\n1. *Venue*: The name of a specific venue\n2. *Venue Latitude*: The latitude of a specific venue\n3. *Venue Longitude*: The longitude of a specific venue\n4. *Venue Category*: The category of a specific venue, such as \"Pizza Place\" and \"Coffee Shop\""
        },
        {
            "cell_type": "code",
            "execution_count": null,
            "metadata": {},
            "outputs": [],
            "source": ""
        },
        {
            "cell_type": "code",
            "execution_count": null,
            "metadata": {},
            "outputs": [],
            "source": ""
        }
    ],
    "metadata": {
        "kernelspec": {
            "display_name": "Python 3.7",
            "language": "python",
            "name": "python3"
        },
        "language_info": {
            "codemirror_mode": {
                "name": "ipython",
                "version": 3
            },
            "file_extension": ".py",
            "mimetype": "text/x-python",
            "name": "python",
            "nbconvert_exporter": "python",
            "pygments_lexer": "ipython3",
            "version": "3.7.9"
        }
    },
    "nbformat": 4,
    "nbformat_minor": 1
}