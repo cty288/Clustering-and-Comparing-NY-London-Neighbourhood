{
    "cells": [
        {
            "cell_type": "markdown",
            "metadata": {
                "collapsed": true
            },
            "source": "<h1 align=\"center\"> Clustering and Comparsion of London and New York City</h1>"
        },
        {
            "cell_type": "markdown",
            "metadata": {},
            "source": "Tim Chen"
        },
        {
            "cell_type": "markdown",
            "metadata": {},
            "source": "16th January 2021"
        },
        {
            "cell_type": "markdown",
            "metadata": {},
            "source": "# 1. Introduction"
        },
        {
            "cell_type": "markdown",
            "metadata": {},
            "source": "  London and New York City are two of the most influential and populous international cities in the world. As two megacities, London and New York City have diverse demographics and cultures, which contribute to their different neighborhoods and living experiences.\n  \n  In order to compare the unique living experience of the two cities, this project clusters the neighborhoods of London and New York City to give a comprehensive report of the difference and variety between their neighborhoods."
        },
        {
            "cell_type": "markdown",
            "metadata": {},
            "source": "# 2. Business Problem"
        },
        {
            "cell_type": "markdown",
            "metadata": {},
            "source": "The purpose of this project is to provide a detailed comparison for those who are interested in learning about London and New York City. This project also helps tourists to make decisions about their destination depending on their preference of the neighborhoods. It is also a way for those who are considering migration to London or New York City to make their decisions. For investors and stakeholders, this project can provide them with more insights on the neighborhoods, and help them make decisions on their future investment locations."
        },
        {
            "cell_type": "code",
            "execution_count": null,
            "metadata": {},
            "outputs": [],
            "source": ""
        }
    ],
    "metadata": {
        "kernelspec": {
            "display_name": "Python 3.7",
            "language": "python",
            "name": "python3"
        },
        "language_info": {
            "codemirror_mode": {
                "name": "ipython",
                "version": 3
            },
            "file_extension": ".py",
            "mimetype": "text/x-python",
            "name": "python",
            "nbconvert_exporter": "python",
            "pygments_lexer": "ipython3",
            "version": "3.7.9"
        }
    },
    "nbformat": 4,
    "nbformat_minor": 1
}